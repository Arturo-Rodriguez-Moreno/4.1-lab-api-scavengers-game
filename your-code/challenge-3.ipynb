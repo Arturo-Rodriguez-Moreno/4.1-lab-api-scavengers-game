{
 "cells": [
  {
   "cell_type": "markdown",
   "id": "defensive-clock",
   "metadata": {},
   "source": [
    "# Challenge 3: Hidden Cold Joke\n",
    "\n",
    "Using Python, call Github API to find out the cold joke contained in the 24 secret files in the following repo:\n",
    "\n",
    "https://github.com/ironhack-datalabs/scavenger\n",
    "\n",
    "The filenames of the secret files contain .scavengerhunt and they are scattered in different directories of this repo. The secret files are named from .0001.scavengerhunt to .0024.scavengerhunt. They are scattered randomly throughout this repo. You need to search for these files by calling the Github API, not searching the local files on your computer.\n",
    "\n",
    "\n",
    "After you find out the secrete files:\n",
    "\n",
    "Sort the filenames ascendingly.\n",
    "\n",
    "Read the content of each secret files into an array of strings.\n",
    "\n",
    "Concatenate the strings in the array separating each two with a whitespace.\n",
    "\n",
    "Print out the joke."
   ]
  },
  {
   "cell_type": "markdown",
   "id": "universal-length",
   "metadata": {},
   "source": [
    "⚠️ **Remember to limit your output before submission**."
   ]
  },
  {
   "cell_type": "code",
   "execution_count": 1,
   "id": "toxic-trading",
   "metadata": {},
   "outputs": [],
   "source": [
    "import json\n",
    "\n",
    "import os\n",
    "from dotenv import load_dotenv\n",
    "\n",
    "import requests as req\n"
   ]
  },
  {
   "cell_type": "code",
   "execution_count": 2,
   "id": "5e4b5488",
   "metadata": {},
   "outputs": [],
   "source": [
    "import os\n",
    "from dotenv import load_dotenv # importo os para recorre el path y dotenv para leer .env"
   ]
  },
  {
   "cell_type": "code",
   "execution_count": 3,
   "id": "34e298f1",
   "metadata": {},
   "outputs": [
    {
     "data": {
      "text/plain": [
       "True"
      ]
     },
     "execution_count": 3,
     "metadata": {},
     "output_type": "execute_result"
    }
   ],
   "source": [
    "load_dotenv() # Cargar lo que tengo dentro del .env"
   ]
  },
  {
   "cell_type": "code",
   "execution_count": 4,
   "id": "c81ffcac",
   "metadata": {},
   "outputs": [],
   "source": [
    "# Localizar token desde .env\n",
    "\n",
    "github = os.getenv(\"token\")"
   ]
  },
  {
   "cell_type": "code",
   "execution_count": 5,
   "id": "c55e3741",
   "metadata": {},
   "outputs": [],
   "source": [
    "headers = {\"Authorization\": github}   # Autorización para api github."
   ]
  },
  {
   "cell_type": "code",
   "execution_count": 6,
   "id": "static-stopping",
   "metadata": {},
   "outputs": [],
   "source": [
    "# URL para entra en el repo de ironhack scavenger y en el content\n",
    "\n",
    "URL='https://api.github.com/repos/ironhack-datalabs/scavenger/contents'"
   ]
  },
  {
   "cell_type": "code",
   "execution_count": 7,
   "id": "81780f1f",
   "metadata": {},
   "outputs": [
    {
     "data": {
      "text/plain": [
       "<Response [403]>"
      ]
     },
     "execution_count": 7,
     "metadata": {},
     "output_type": "execute_result"
    }
   ],
   "source": [
    "# Hago una solicitud de traerme informacion  \n",
    "\n",
    "res_git=req.get(URL, headers=headers)\n",
    "res_git"
   ]
  },
  {
   "cell_type": "code",
   "execution_count": 8,
   "id": "6076c9b0",
   "metadata": {},
   "outputs": [
    {
     "data": {
      "text/plain": [
       "{'message': \"API rate limit exceeded for 90.167.219.237. (But here's the good news: Authenticated requests get a higher rate limit. Check out the documentation for more details.)\",\n",
       " 'documentation_url': 'https://docs.github.com/rest/overview/resources-in-the-rest-api#rate-limiting'}"
      ]
     },
     "execution_count": 8,
     "metadata": {},
     "output_type": "execute_result"
    }
   ],
   "source": [
    "# Lo convirto en un json\n",
    "\n",
    "scavenger = res_git.json()\n",
    "\n",
    "scavenger"
   ]
  },
  {
   "cell_type": "code",
   "execution_count": 9,
   "id": "7dec766c",
   "metadata": {},
   "outputs": [
    {
     "ename": "TypeError",
     "evalue": "string indices must be integers",
     "output_type": "error",
     "traceback": [
      "\u001b[1;31m---------------------------------------------------------------------------\u001b[0m",
      "\u001b[1;31mTypeError\u001b[0m                                 Traceback (most recent call last)",
      "Input \u001b[1;32mIn [9]\u001b[0m, in \u001b[0;36m<cell line: 4>\u001b[1;34m()\u001b[0m\n\u001b[0;32m      1\u001b[0m \u001b[38;5;66;03m# Recorro el contenido de acavenger y me quedo con las nuevas URLs con el path\u001b[39;00m\n\u001b[0;32m      4\u001b[0m \u001b[38;5;28;01mfor\u001b[39;00m i \u001b[38;5;129;01min\u001b[39;00m scavenger:\n\u001b[1;32m----> 5\u001b[0m     \u001b[38;5;28;01mif\u001b[39;00m \u001b[43mi\u001b[49m\u001b[43m[\u001b[49m\u001b[38;5;124;43m'\u001b[39;49m\u001b[38;5;124;43mpath\u001b[39;49m\u001b[38;5;124;43m'\u001b[39;49m\u001b[43m]\u001b[49m\u001b[38;5;241m!=\u001b[39m \u001b[38;5;124m'\u001b[39m\u001b[38;5;124m.gitignore\u001b[39m\u001b[38;5;124m'\u001b[39m:\n\u001b[0;32m      6\u001b[0m         URL\u001b[38;5;241m=\u001b[39m\u001b[38;5;124m'\u001b[39m\u001b[38;5;124mhttps://api.github.com/repos/ironhack-datalabs/scavenger/contents\u001b[39m\u001b[38;5;124m'\u001b[39m\u001b[38;5;241m+\u001b[39m\u001b[38;5;124m'\u001b[39m\u001b[38;5;124m/\u001b[39m\u001b[38;5;124m'\u001b[39m\u001b[38;5;241m+\u001b[39mi[\u001b[38;5;124m'\u001b[39m\u001b[38;5;124mpath\u001b[39m\u001b[38;5;124m'\u001b[39m]\n\u001b[0;32m      7\u001b[0m         \u001b[38;5;28mprint\u001b[39m(URL)\n",
      "\u001b[1;31mTypeError\u001b[0m: string indices must be integers"
     ]
    }
   ],
   "source": [
    "# Recorro el contenido de acavenger y me quedo con las nuevas URLs con el path\n",
    "\n",
    "\n",
    "for i in scavenger:\n",
    "    if i['path']!= '.gitignore':\n",
    "        URL='https://api.github.com/repos/ironhack-datalabs/scavenger/contents'+'/'+i['path']\n",
    "        print(URL)\n",
    "\n",
    "        "
   ]
  },
  {
   "cell_type": "code",
   "execution_count": null,
   "id": "c75aae95",
   "metadata": {},
   "outputs": [],
   "source": [
    "# Chequeo el contenido de la url\n",
    "\n",
    "\n",
    "res_git=req.get(URL, headers=headers)\n",
    "res_git.json()"
   ]
  },
  {
   "cell_type": "code",
   "execution_count": null,
   "id": "70f85d09",
   "metadata": {},
   "outputs": [],
   "source": [
    "URL=\"https://api.github.com/repos/ironhack-datalabs/scavenger/contents/15024/.0006.scavengerhunt\""
   ]
  },
  {
   "cell_type": "code",
   "execution_count": null,
   "id": "60299ea7",
   "metadata": {},
   "outputs": [],
   "source": [
    "res_git=req.get(URL, headers=headers)\n",
    "res_git.json()"
   ]
  },
  {
   "cell_type": "code",
   "execution_count": null,
   "id": "7a20d1da",
   "metadata": {},
   "outputs": [],
   "source": [
    "res_git.json()['content']"
   ]
  },
  {
   "cell_type": "code",
   "execution_count": null,
   "id": "4ec0ed6f",
   "metadata": {},
   "outputs": [],
   "source": [
    "# Hago un append para quedarme con las url\n",
    "\n",
    "lista_sca=[]\n",
    "\n",
    "for i in scavenger:\n",
    "    if i['path']!= '.gitignore':\n",
    "        URL='https://api.github.com/repos/ironhack-datalabs/scavenger/contents'+'/'+i['path']\n",
    "        \n",
    "        \n",
    "        scavengerhunt.append(URL)\n",
    "\n",
    "\n",
    "scavengerhunt"
   ]
  },
  {
   "cell_type": "code",
   "execution_count": null,
   "id": "46db9e82",
   "metadata": {},
   "outputs": [],
   "source": [
    "# Hago un append para quedarme con las url de las pistas\n",
    "\n",
    "lista_pista=[]\n",
    "\n",
    "for j in lista_sca:\n",
    "    res_git=req.get(j, headers=headers)\n",
    "    scavengerhunt = res_git.json()\n",
    "    if scavengerhunt['name'].endswith('%hunt'):\n",
    "        URL='https://api.github.com/repos/ironhack-datalabs/scavenger/contents'+'/'+i['path']+'/'+scavengerhunt['name']\n",
    "        lista_pista.append(URL)\n"
   ]
  },
  {
   "cell_type": "code",
   "execution_count": null,
   "id": "d5662e74",
   "metadata": {},
   "outputs": [],
   "source": [
    "# Hago un append en el diccionario para quedarme con el numero de la pista y la pista\n",
    "\n",
    "my_dict = {}\n",
    "\n",
    "for k in lista_pista:\n",
    "    res_git=req.get(k, headers=headers)\n",
    "    pista = res_git.json()\n",
    "    my_dict[pista['name']] = pista['content']\n",
    "    "
   ]
  },
  {
   "cell_type": "code",
   "execution_count": null,
   "id": "d8fe65be",
   "metadata": {},
   "outputs": [],
   "source": [
    "# Para convertir base64 a string\n",
    "\n",
    "import base64\n",
    "\n",
    "base64_message = 'UHl0aG9uIGlzIGZ1bg=='\n",
    "base64_bytes = base64_message.encode('ascii')\n",
    "message_bytes = base64.b64decode(base64_bytes)\n",
    "message = message_bytes.decode('ascii')\n",
    "\n",
    "print(message)"
   ]
  }
 ],
 "metadata": {
  "kernelspec": {
   "display_name": "Python 3 (ipykernel)",
   "language": "python",
   "name": "python3"
  },
  "language_info": {
   "codemirror_mode": {
    "name": "ipython",
    "version": 3
   },
   "file_extension": ".py",
   "mimetype": "text/x-python",
   "name": "python",
   "nbconvert_exporter": "python",
   "pygments_lexer": "ipython3",
   "version": "3.9.7"
  },
  "toc": {
   "base_numbering": 1,
   "nav_menu": {},
   "number_sections": true,
   "sideBar": true,
   "skip_h1_title": true,
   "title_cell": "Table of Contents",
   "title_sidebar": "Contents",
   "toc_cell": false,
   "toc_position": {},
   "toc_section_display": true,
   "toc_window_display": true
  }
 },
 "nbformat": 4,
 "nbformat_minor": 5
}
