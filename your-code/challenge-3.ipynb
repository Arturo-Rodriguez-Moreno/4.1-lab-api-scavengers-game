{
 "cells": [
  {
   "cell_type": "markdown",
   "id": "defensive-clock",
   "metadata": {},
   "source": [
    "# Challenge 3: Hidden Cold Joke\n",
    "\n",
    "Using Python, call Github API to find out the cold joke contained in the 24 secret files in the following repo:\n",
    "\n",
    "https://github.com/ironhack-datalabs/scavenger\n",
    "\n",
    "The filenames of the secret files contain .scavengerhunt and they are scattered in different directories of this repo. The secret files are named from .0001.scavengerhunt to .0024.scavengerhunt. They are scattered randomly throughout this repo. You need to search for these files by calling the Github API, not searching the local files on your computer.\n",
    "\n",
    "\n",
    "After you find out the secrete files:\n",
    "\n",
    "Sort the filenames ascendingly.\n",
    "\n",
    "Read the content of each secret files into an array of strings.\n",
    "\n",
    "Concatenate the strings in the array separating each two with a whitespace.\n",
    "\n",
    "Print out the joke."
   ]
  },
  {
   "cell_type": "markdown",
   "id": "universal-length",
   "metadata": {},
   "source": [
    "⚠️ **Remember to limit your output before submission**."
   ]
  },
  {
   "cell_type": "code",
   "execution_count": 1,
   "id": "0f7597a4",
   "metadata": {},
   "outputs": [
    {
     "name": "stdout",
     "output_type": "stream",
     "text": [
      "Collecting python-dotenv\n",
      "  Using cached python_dotenv-0.20.0-py3-none-any.whl (17 kB)\n",
      "Installing collected packages: python-dotenv\n",
      "Successfully installed python-dotenv-0.20.0\n"
     ]
    }
   ],
   "source": [
    "!pip install python-dotenv"
   ]
  },
  {
   "cell_type": "code",
   "execution_count": 14,
   "id": "toxic-trading",
   "metadata": {},
   "outputs": [],
   "source": [
    "import json         \n",
    "\n",
    "import os\n",
    "from dotenv import load_dotenv\n",
    "\n",
    "import requests as req\n",
    "\n",
    "import base64"
   ]
  },
  {
   "cell_type": "code",
   "execution_count": 3,
   "id": "34e298f1",
   "metadata": {},
   "outputs": [
    {
     "data": {
      "text/plain": [
       "True"
      ]
     },
     "execution_count": 3,
     "metadata": {},
     "output_type": "execute_result"
    }
   ],
   "source": [
    "load_dotenv() # Cargar lo que tengo dentro del .env"
   ]
  },
  {
   "cell_type": "code",
   "execution_count": 4,
   "id": "c81ffcac",
   "metadata": {},
   "outputs": [],
   "source": [
    "# Localizar token desde .env\n",
    "\n",
    "github = os.getenv(\"token\")"
   ]
  },
  {
   "cell_type": "code",
   "execution_count": 5,
   "id": "c55e3741",
   "metadata": {},
   "outputs": [],
   "source": [
    "headers = {\"Authorization\": github}   # Autorización para api github."
   ]
  },
  {
   "cell_type": "code",
   "execution_count": 6,
   "id": "static-stopping",
   "metadata": {},
   "outputs": [],
   "source": [
    "# URL para entra en el repo de ironhack scavenger y en el content\n",
    "\n",
    "URL='https://api.github.com/repos/ironhack-datalabs/scavenger/contents'"
   ]
  },
  {
   "cell_type": "code",
   "execution_count": 7,
   "id": "81780f1f",
   "metadata": {},
   "outputs": [
    {
     "data": {
      "text/plain": [
       "<Response [200]>"
      ]
     },
     "execution_count": 7,
     "metadata": {},
     "output_type": "execute_result"
    }
   ],
   "source": [
    "# Hago una solicitud de traerme informacion  \n",
    "\n",
    "res_git=req.get(URL, headers=headers)\n",
    "res_git"
   ]
  },
  {
   "cell_type": "code",
   "execution_count": 8,
   "id": "6076c9b0",
   "metadata": {},
   "outputs": [
    {
     "data": {
      "text/plain": [
       "[{'name': '.gitignore',\n",
       "  'path': '.gitignore',\n",
       "  'sha': 'e43b0f988953ae3a84b00331d0ccf5f7d51cb3cf',\n",
       "  'size': 10,\n",
       "  'url': 'https://api.github.com/repos/ironhack-datalabs/scavenger/contents/.gitignore?ref=master',\n",
       "  'html_url': 'https://github.com/ironhack-datalabs/scavenger/blob/master/.gitignore',\n",
       "  'git_url': 'https://api.github.com/repos/ironhack-datalabs/scavenger/git/blobs/e43b0f988953ae3a84b00331d0ccf5f7d51cb3cf',\n",
       "  'download_url': 'https://raw.githubusercontent.com/ironhack-datalabs/scavenger/master/.gitignore',\n",
       "  'type': 'file',\n",
       "  '_links': {'self': 'https://api.github.com/repos/ironhack-datalabs/scavenger/contents/.gitignore?ref=master',\n",
       "   'git': 'https://api.github.com/repos/ironhack-datalabs/scavenger/git/blobs/e43b0f988953ae3a84b00331d0ccf5f7d51cb3cf',\n",
       "   'html': 'https://github.com/ironhack-datalabs/scavenger/blob/master/.gitignore'}},\n",
       " {'name': '15024',\n",
       "  'path': '15024',\n",
       "  'sha': '2945e51c87ad5da893c954afcf092f06343bbb7d',\n",
       "  'size': 0,\n",
       "  'url': 'https://api.github.com/repos/ironhack-datalabs/scavenger/contents/15024?ref=master',\n",
       "  'html_url': 'https://github.com/ironhack-datalabs/scavenger/tree/master/15024',\n",
       "  'git_url': 'https://api.github.com/repos/ironhack-datalabs/scavenger/git/trees/2945e51c87ad5da893c954afcf092f06343bbb7d',\n",
       "  'download_url': None,\n",
       "  'type': 'dir',\n",
       "  '_links': {'self': 'https://api.github.com/repos/ironhack-datalabs/scavenger/contents/15024?ref=master',\n",
       "   'git': 'https://api.github.com/repos/ironhack-datalabs/scavenger/git/trees/2945e51c87ad5da893c954afcf092f06343bbb7d',\n",
       "   'html': 'https://github.com/ironhack-datalabs/scavenger/tree/master/15024'}},\n",
       " {'name': '15534',\n",
       "  'path': '15534',\n",
       "  'sha': '5af6f2a7287e4191f39e55693fc1e9c8918d1d3a',\n",
       "  'size': 0,\n",
       "  'url': 'https://api.github.com/repos/ironhack-datalabs/scavenger/contents/15534?ref=master',\n",
       "  'html_url': 'https://github.com/ironhack-datalabs/scavenger/tree/master/15534',\n",
       "  'git_url': 'https://api.github.com/repos/ironhack-datalabs/scavenger/git/trees/5af6f2a7287e4191f39e55693fc1e9c8918d1d3a',\n",
       "  'download_url': None,\n",
       "  'type': 'dir',\n",
       "  '_links': {'self': 'https://api.github.com/repos/ironhack-datalabs/scavenger/contents/15534?ref=master',\n",
       "   'git': 'https://api.github.com/repos/ironhack-datalabs/scavenger/git/trees/5af6f2a7287e4191f39e55693fc1e9c8918d1d3a',\n",
       "   'html': 'https://github.com/ironhack-datalabs/scavenger/tree/master/15534'}},\n",
       " {'name': '17020',\n",
       "  'path': '17020',\n",
       "  'sha': '9c49f920aa4d9433fa99a5824128f0e6b90ec5f2',\n",
       "  'size': 0,\n",
       "  'url': 'https://api.github.com/repos/ironhack-datalabs/scavenger/contents/17020?ref=master',\n",
       "  'html_url': 'https://github.com/ironhack-datalabs/scavenger/tree/master/17020',\n",
       "  'git_url': 'https://api.github.com/repos/ironhack-datalabs/scavenger/git/trees/9c49f920aa4d9433fa99a5824128f0e6b90ec5f2',\n",
       "  'download_url': None,\n",
       "  'type': 'dir',\n",
       "  '_links': {'self': 'https://api.github.com/repos/ironhack-datalabs/scavenger/contents/17020?ref=master',\n",
       "   'git': 'https://api.github.com/repos/ironhack-datalabs/scavenger/git/trees/9c49f920aa4d9433fa99a5824128f0e6b90ec5f2',\n",
       "   'html': 'https://github.com/ironhack-datalabs/scavenger/tree/master/17020'}},\n",
       " {'name': '30351',\n",
       "  'path': '30351',\n",
       "  'sha': 'c488d7f64088c852e22067d48fdc64ee3670f3ba',\n",
       "  'size': 0,\n",
       "  'url': 'https://api.github.com/repos/ironhack-datalabs/scavenger/contents/30351?ref=master',\n",
       "  'html_url': 'https://github.com/ironhack-datalabs/scavenger/tree/master/30351',\n",
       "  'git_url': 'https://api.github.com/repos/ironhack-datalabs/scavenger/git/trees/c488d7f64088c852e22067d48fdc64ee3670f3ba',\n",
       "  'download_url': None,\n",
       "  'type': 'dir',\n",
       "  '_links': {'self': 'https://api.github.com/repos/ironhack-datalabs/scavenger/contents/30351?ref=master',\n",
       "   'git': 'https://api.github.com/repos/ironhack-datalabs/scavenger/git/trees/c488d7f64088c852e22067d48fdc64ee3670f3ba',\n",
       "   'html': 'https://github.com/ironhack-datalabs/scavenger/tree/master/30351'}}]"
      ]
     },
     "execution_count": 8,
     "metadata": {},
     "output_type": "execute_result"
    }
   ],
   "source": [
    "# Lo convirto en un json\n",
    "\n",
    "scavenger = res_git.json()\n",
    "\n",
    "scavenger[:5]"
   ]
  },
  {
   "cell_type": "code",
   "execution_count": 9,
   "id": "4ec0ed6f",
   "metadata": {},
   "outputs": [
    {
     "data": {
      "text/plain": [
       "['https://api.github.com/repos/ironhack-datalabs/scavenger/contents/15024',\n",
       " 'https://api.github.com/repos/ironhack-datalabs/scavenger/contents/15534',\n",
       " 'https://api.github.com/repos/ironhack-datalabs/scavenger/contents/17020',\n",
       " 'https://api.github.com/repos/ironhack-datalabs/scavenger/contents/30351',\n",
       " 'https://api.github.com/repos/ironhack-datalabs/scavenger/contents/40303',\n",
       " 'https://api.github.com/repos/ironhack-datalabs/scavenger/contents/44639',\n",
       " 'https://api.github.com/repos/ironhack-datalabs/scavenger/contents/45525',\n",
       " 'https://api.github.com/repos/ironhack-datalabs/scavenger/contents/47222',\n",
       " 'https://api.github.com/repos/ironhack-datalabs/scavenger/contents/47830',\n",
       " 'https://api.github.com/repos/ironhack-datalabs/scavenger/contents/49418',\n",
       " 'https://api.github.com/repos/ironhack-datalabs/scavenger/contents/50896',\n",
       " 'https://api.github.com/repos/ironhack-datalabs/scavenger/contents/55417',\n",
       " 'https://api.github.com/repos/ironhack-datalabs/scavenger/contents/55685',\n",
       " 'https://api.github.com/repos/ironhack-datalabs/scavenger/contents/60224',\n",
       " 'https://api.github.com/repos/ironhack-datalabs/scavenger/contents/64880',\n",
       " 'https://api.github.com/repos/ironhack-datalabs/scavenger/contents/66032',\n",
       " 'https://api.github.com/repos/ironhack-datalabs/scavenger/contents/68848',\n",
       " 'https://api.github.com/repos/ironhack-datalabs/scavenger/contents/70751',\n",
       " 'https://api.github.com/repos/ironhack-datalabs/scavenger/contents/70985',\n",
       " 'https://api.github.com/repos/ironhack-datalabs/scavenger/contents/88596',\n",
       " 'https://api.github.com/repos/ironhack-datalabs/scavenger/contents/89046',\n",
       " 'https://api.github.com/repos/ironhack-datalabs/scavenger/contents/89338',\n",
       " 'https://api.github.com/repos/ironhack-datalabs/scavenger/contents/91701',\n",
       " 'https://api.github.com/repos/ironhack-datalabs/scavenger/contents/97881',\n",
       " 'https://api.github.com/repos/ironhack-datalabs/scavenger/contents/98750']"
      ]
     },
     "execution_count": 9,
     "metadata": {},
     "output_type": "execute_result"
    }
   ],
   "source": [
    "# Hago un append para quedarme con las url\n",
    "\n",
    "lista_sca=[]\n",
    "\n",
    "for i in scavenger:\n",
    "    if i['path']!= '.gitignore':\n",
    "        URL='https://api.github.com/repos/ironhack-datalabs/scavenger/contents'+'/'+i['path']\n",
    "        \n",
    "        \n",
    "        lista_sca.append(URL)\n",
    "\n",
    "\n",
    "lista_sca"
   ]
  },
  {
   "cell_type": "code",
   "execution_count": 10,
   "id": "46db9e82",
   "metadata": {},
   "outputs": [
    {
     "data": {
      "text/plain": [
       "['https://api.github.com/repos/ironhack-datalabs/scavenger/contents/15024/.0006.scavengerhunt',\n",
       " 'https://api.github.com/repos/ironhack-datalabs/scavenger/contents/15534/.0008.scavengerhunt',\n",
       " 'https://api.github.com/repos/ironhack-datalabs/scavenger/contents/15534/.0012.scavengerhunt',\n",
       " 'https://api.github.com/repos/ironhack-datalabs/scavenger/contents/17020/.0007.scavengerhunt',\n",
       " 'https://api.github.com/repos/ironhack-datalabs/scavenger/contents/30351/.0021.scavengerhunt',\n",
       " 'https://api.github.com/repos/ironhack-datalabs/scavenger/contents/40303/.0022.scavengerhunt',\n",
       " 'https://api.github.com/repos/ironhack-datalabs/scavenger/contents/44639/.0005.scavengerhunt',\n",
       " 'https://api.github.com/repos/ironhack-datalabs/scavenger/contents/45525/.0018.scavengerhunt',\n",
       " 'https://api.github.com/repos/ironhack-datalabs/scavenger/contents/47222/.0016.scavengerhunt',\n",
       " 'https://api.github.com/repos/ironhack-datalabs/scavenger/contents/47222/.0024.scavengerhunt',\n",
       " 'https://api.github.com/repos/ironhack-datalabs/scavenger/contents/47830/.0010.scavengerhunt',\n",
       " 'https://api.github.com/repos/ironhack-datalabs/scavenger/contents/49418/.0014.scavengerhunt',\n",
       " 'https://api.github.com/repos/ironhack-datalabs/scavenger/contents/50896/.0011.scavengerhunt',\n",
       " 'https://api.github.com/repos/ironhack-datalabs/scavenger/contents/55417/.0023.scavengerhunt',\n",
       " 'https://api.github.com/repos/ironhack-datalabs/scavenger/contents/55685/.0020.scavengerhunt',\n",
       " 'https://api.github.com/repos/ironhack-datalabs/scavenger/contents/60224/.0003.scavengerhunt',\n",
       " 'https://api.github.com/repos/ironhack-datalabs/scavenger/contents/68848/.0004.scavengerhunt',\n",
       " 'https://api.github.com/repos/ironhack-datalabs/scavenger/contents/70751/.0019.scavengerhunt',\n",
       " 'https://api.github.com/repos/ironhack-datalabs/scavenger/contents/70985/.0017.scavengerhunt',\n",
       " 'https://api.github.com/repos/ironhack-datalabs/scavenger/contents/88596/.0002.scavengerhunt',\n",
       " 'https://api.github.com/repos/ironhack-datalabs/scavenger/contents/89338/.0013.scavengerhunt',\n",
       " 'https://api.github.com/repos/ironhack-datalabs/scavenger/contents/91701/.0015.scavengerhunt',\n",
       " 'https://api.github.com/repos/ironhack-datalabs/scavenger/contents/97881/.0009.scavengerhunt',\n",
       " 'https://api.github.com/repos/ironhack-datalabs/scavenger/contents/98750/.0001.scavengerhunt']"
      ]
     },
     "execution_count": 10,
     "metadata": {},
     "output_type": "execute_result"
    }
   ],
   "source": [
    "# Hago un append para quedarme con las url de las pistas\n",
    "\n",
    "lista_pista=[]\n",
    "\n",
    "for j in lista_sca:\n",
    "    res_git=req.get(j, headers=headers)\n",
    "    scavengerhunt = res_git.json()\n",
    "    \n",
    "    for k in scavengerhunt:\n",
    "        if k['name'].endswith('hunt'):\n",
    "            URL=j+'/'+k['name']\n",
    "            lista_pista.append(URL)\n",
    "lista_pista"
   ]
  },
  {
   "cell_type": "code",
   "execution_count": 11,
   "id": "d5662e74",
   "metadata": {},
   "outputs": [],
   "source": [
    "# Hago un append en el diccionario para quedarme con el numero de la pista y la pista\n",
    "\n",
    "my_dict = {}\n",
    "\n",
    "for k in lista_pista:\n",
    "    res_git=req.get(k, headers=headers)\n",
    "    pista = res_git.json()\n",
    "    my_dict[pista['name']] = pista['content']\n",
    "    "
   ]
  },
  {
   "cell_type": "code",
   "execution_count": 12,
   "id": "6db9cc27",
   "metadata": {},
   "outputs": [
    {
     "data": {
      "text/plain": [
       "{'.0006.scavengerhunt': 'b2YK\\n',\n",
       " '.0008.scavengerhunt': 'c3BlbnQK\\n',\n",
       " '.0012.scavengerhunt': 'MjAK\\n',\n",
       " '.0007.scavengerhunt': 'dGltZQo=\\n',\n",
       " '.0021.scavengerhunt': 'bmVlZAo=\\n',\n",
       " '.0022.scavengerhunt': 'dG8K\\n',\n",
       " '.0005.scavengerhunt': 'cGVyY2VudAo=\\n',\n",
       " '.0018.scavengerhunt': 'Y29tcGxhaW5pbmcK\\n',\n",
       " '.0016.scavengerhunt': 'aXMK\\n',\n",
       " '.0024.scavengerhunt': 'ZGF0YS4K\\n',\n",
       " '.0010.scavengerhunt': 'cHJlcGFyaW5nCg==\\n',\n",
       " '.0014.scavengerhunt': 'b2YK\\n',\n",
       " '.0011.scavengerhunt': 'ZGF0YSwK\\n',\n",
       " '.0023.scavengerhunt': 'cHJlcGFyZQo=\\n',\n",
       " '.0020.scavengerhunt': 'dGhlCg==\\n',\n",
       " '.0003.scavengerhunt': 'c2NpZW5jZSwK\\n',\n",
       " '.0004.scavengerhunt': 'ODAK\\n',\n",
       " '.0019.scavengerhunt': 'YWJvdXQK\\n',\n",
       " '.0017.scavengerhunt': 'c3BlbnQK\\n',\n",
       " '.0002.scavengerhunt': 'ZGF0YQo=\\n',\n",
       " '.0013.scavengerhunt': 'cGVyY2VudAo=\\n',\n",
       " '.0015.scavengerhunt': 'dGltZQo=\\n',\n",
       " '.0009.scavengerhunt': 'aXMK\\n',\n",
       " '.0001.scavengerhunt': 'SW4K\\n'}"
      ]
     },
     "execution_count": 12,
     "metadata": {},
     "output_type": "execute_result"
    }
   ],
   "source": [
    "my_dict"
   ]
  },
  {
   "cell_type": "code",
   "execution_count": 23,
   "id": "16f47294",
   "metadata": {},
   "outputs": [],
   "source": [
    "# Para convertir base64 a string\n",
    "\n",
    "def bs64_string(base64_message):\n",
    "\n",
    "    base64_bytes = base64_message.encode('ascii')\n",
    "    message_bytes = base64.b64decode(base64_bytes)\n",
    "    message = message_bytes.decode('ascii')\n",
    "\n",
    "    return message"
   ]
  },
  {
   "cell_type": "code",
   "execution_count": 33,
   "id": "fb798f49",
   "metadata": {},
   "outputs": [
    {
     "data": {
      "text/plain": [
       "[('.0001.scavengerhunt', 'SW4K\\n'),\n",
       " ('.0002.scavengerhunt', 'ZGF0YQo=\\n'),\n",
       " ('.0003.scavengerhunt', 'c2NpZW5jZSwK\\n'),\n",
       " ('.0004.scavengerhunt', 'ODAK\\n'),\n",
       " ('.0005.scavengerhunt', 'cGVyY2VudAo=\\n'),\n",
       " ('.0006.scavengerhunt', 'b2YK\\n'),\n",
       " ('.0007.scavengerhunt', 'dGltZQo=\\n'),\n",
       " ('.0008.scavengerhunt', 'c3BlbnQK\\n'),\n",
       " ('.0009.scavengerhunt', 'aXMK\\n'),\n",
       " ('.0010.scavengerhunt', 'cHJlcGFyaW5nCg==\\n'),\n",
       " ('.0011.scavengerhunt', 'ZGF0YSwK\\n'),\n",
       " ('.0012.scavengerhunt', 'MjAK\\n'),\n",
       " ('.0013.scavengerhunt', 'cGVyY2VudAo=\\n'),\n",
       " ('.0014.scavengerhunt', 'b2YK\\n'),\n",
       " ('.0015.scavengerhunt', 'dGltZQo=\\n'),\n",
       " ('.0016.scavengerhunt', 'aXMK\\n'),\n",
       " ('.0017.scavengerhunt', 'c3BlbnQK\\n'),\n",
       " ('.0018.scavengerhunt', 'Y29tcGxhaW5pbmcK\\n'),\n",
       " ('.0019.scavengerhunt', 'YWJvdXQK\\n'),\n",
       " ('.0020.scavengerhunt', 'dGhlCg==\\n'),\n",
       " ('.0021.scavengerhunt', 'bmVlZAo=\\n'),\n",
       " ('.0022.scavengerhunt', 'dG8K\\n'),\n",
       " ('.0023.scavengerhunt', 'cHJlcGFyZQo=\\n'),\n",
       " ('.0024.scavengerhunt', 'ZGF0YS4K\\n'),\n",
       " ('k', 'of\\n')]"
      ]
     },
     "execution_count": 33,
     "metadata": {},
     "output_type": "execute_result"
    }
   ],
   "source": [
    "dictionary_items = my_dict.items()\n",
    "\n",
    "sorted_items = sorted(dictionary_items)\n",
    "\n",
    "sorted_items"
   ]
  },
  {
   "cell_type": "code",
   "execution_count": 39,
   "id": "12ce7476",
   "metadata": {},
   "outputs": [
    {
     "name": "stdout",
     "output_type": "stream",
     "text": [
      "In\n",
      "\n",
      "data\n",
      "\n",
      "science,\n",
      "\n",
      "80\n",
      "\n",
      "percent\n",
      "\n",
      "of\n",
      "\n",
      "time\n",
      "\n",
      "spent\n",
      "\n",
      "is\n",
      "\n",
      "preparing\n",
      "\n",
      "data,\n",
      "\n",
      "20\n",
      "\n",
      "percent\n",
      "\n",
      "of\n",
      "\n",
      "time\n",
      "\n",
      "is\n",
      "\n",
      "spent\n",
      "\n",
      "complaining\n",
      "\n",
      "about\n",
      "\n",
      "the\n",
      "\n",
      "need\n",
      "\n",
      "to\n",
      "\n",
      "prepare\n",
      "\n",
      "data.\n",
      "\n"
     ]
    },
    {
     "ename": "Error",
     "evalue": "Incorrect padding",
     "output_type": "error",
     "traceback": [
      "\u001b[1;31m---------------------------------------------------------------------------\u001b[0m",
      "\u001b[1;31mError\u001b[0m                                     Traceback (most recent call last)",
      "\u001b[1;32m~\\AppData\\Local\\Temp/ipykernel_32/3214339464.py\u001b[0m in \u001b[0;36m<module>\u001b[1;34m\u001b[0m\n\u001b[0;32m      3\u001b[0m \u001b[1;32mfor\u001b[0m \u001b[0mi\u001b[0m \u001b[1;32min\u001b[0m \u001b[0msorted_items\u001b[0m\u001b[1;33m:\u001b[0m\u001b[1;33m\u001b[0m\u001b[1;33m\u001b[0m\u001b[0m\n\u001b[0;32m      4\u001b[0m \u001b[1;33m\u001b[0m\u001b[0m\n\u001b[1;32m----> 5\u001b[1;33m     \u001b[0mprint\u001b[0m\u001b[1;33m(\u001b[0m\u001b[0mbs64_string\u001b[0m\u001b[1;33m(\u001b[0m\u001b[0mi\u001b[0m\u001b[1;33m[\u001b[0m\u001b[1;33m-\u001b[0m\u001b[1;36m1\u001b[0m\u001b[1;33m]\u001b[0m\u001b[1;33m.\u001b[0m\u001b[0mreplace\u001b[0m\u001b[1;33m(\u001b[0m\u001b[1;34m'\\n'\u001b[0m\u001b[1;33m,\u001b[0m\u001b[1;34m''\u001b[0m\u001b[1;33m)\u001b[0m\u001b[1;33m)\u001b[0m\u001b[1;33m)\u001b[0m\u001b[1;33m\u001b[0m\u001b[1;33m\u001b[0m\u001b[0m\n\u001b[0m",
      "\u001b[1;32m~\\AppData\\Local\\Temp/ipykernel_32/256589154.py\u001b[0m in \u001b[0;36mbs64_string\u001b[1;34m(base64_message)\u001b[0m\n\u001b[0;32m      4\u001b[0m \u001b[1;33m\u001b[0m\u001b[0m\n\u001b[0;32m      5\u001b[0m     \u001b[0mbase64_bytes\u001b[0m \u001b[1;33m=\u001b[0m \u001b[0mbase64_message\u001b[0m\u001b[1;33m.\u001b[0m\u001b[0mencode\u001b[0m\u001b[1;33m(\u001b[0m\u001b[1;34m'ascii'\u001b[0m\u001b[1;33m)\u001b[0m\u001b[1;33m\u001b[0m\u001b[1;33m\u001b[0m\u001b[0m\n\u001b[1;32m----> 6\u001b[1;33m     \u001b[0mmessage_bytes\u001b[0m \u001b[1;33m=\u001b[0m \u001b[0mbase64\u001b[0m\u001b[1;33m.\u001b[0m\u001b[0mb64decode\u001b[0m\u001b[1;33m(\u001b[0m\u001b[0mbase64_bytes\u001b[0m\u001b[1;33m)\u001b[0m\u001b[1;33m\u001b[0m\u001b[1;33m\u001b[0m\u001b[0m\n\u001b[0m\u001b[0;32m      7\u001b[0m     \u001b[0mmessage\u001b[0m \u001b[1;33m=\u001b[0m \u001b[0mmessage_bytes\u001b[0m\u001b[1;33m.\u001b[0m\u001b[0mdecode\u001b[0m\u001b[1;33m(\u001b[0m\u001b[1;34m'ascii'\u001b[0m\u001b[1;33m)\u001b[0m\u001b[1;33m\u001b[0m\u001b[1;33m\u001b[0m\u001b[0m\n\u001b[0;32m      8\u001b[0m \u001b[1;33m\u001b[0m\u001b[0m\n",
      "\u001b[1;32mC:\\ProgramData\\Anaconda3\\lib\\base64.py\u001b[0m in \u001b[0;36mb64decode\u001b[1;34m(s, altchars, validate)\u001b[0m\n\u001b[0;32m     85\u001b[0m     \u001b[1;32mif\u001b[0m \u001b[0mvalidate\u001b[0m \u001b[1;32mand\u001b[0m \u001b[1;32mnot\u001b[0m \u001b[0mre\u001b[0m\u001b[1;33m.\u001b[0m\u001b[0mfullmatch\u001b[0m\u001b[1;33m(\u001b[0m\u001b[1;34mb'[A-Za-z0-9+/]*={0,2}'\u001b[0m\u001b[1;33m,\u001b[0m \u001b[0ms\u001b[0m\u001b[1;33m)\u001b[0m\u001b[1;33m:\u001b[0m\u001b[1;33m\u001b[0m\u001b[1;33m\u001b[0m\u001b[0m\n\u001b[0;32m     86\u001b[0m         \u001b[1;32mraise\u001b[0m \u001b[0mbinascii\u001b[0m\u001b[1;33m.\u001b[0m\u001b[0mError\u001b[0m\u001b[1;33m(\u001b[0m\u001b[1;34m'Non-base64 digit found'\u001b[0m\u001b[1;33m)\u001b[0m\u001b[1;33m\u001b[0m\u001b[1;33m\u001b[0m\u001b[0m\n\u001b[1;32m---> 87\u001b[1;33m     \u001b[1;32mreturn\u001b[0m \u001b[0mbinascii\u001b[0m\u001b[1;33m.\u001b[0m\u001b[0ma2b_base64\u001b[0m\u001b[1;33m(\u001b[0m\u001b[0ms\u001b[0m\u001b[1;33m)\u001b[0m\u001b[1;33m\u001b[0m\u001b[1;33m\u001b[0m\u001b[0m\n\u001b[0m\u001b[0;32m     88\u001b[0m \u001b[1;33m\u001b[0m\u001b[0m\n\u001b[0;32m     89\u001b[0m \u001b[1;33m\u001b[0m\u001b[0m\n",
      "\u001b[1;31mError\u001b[0m: Incorrect padding"
     ]
    }
   ],
   "source": [
    "frase = []\n",
    "\n",
    "for i in sorted_items:\n",
    "    \n",
    "    print(bs64_string(i[-1].replace('\\n','')))\n"
   ]
  }
 ],
 "metadata": {
  "kernelspec": {
   "display_name": "Python 3 (ipykernel)",
   "language": "python",
   "name": "python3"
  },
  "language_info": {
   "codemirror_mode": {
    "name": "ipython",
    "version": 3
   },
   "file_extension": ".py",
   "mimetype": "text/x-python",
   "name": "python",
   "nbconvert_exporter": "python",
   "pygments_lexer": "ipython3",
   "version": "3.9.7"
  },
  "toc": {
   "base_numbering": 1,
   "nav_menu": {},
   "number_sections": true,
   "sideBar": true,
   "skip_h1_title": true,
   "title_cell": "Table of Contents",
   "title_sidebar": "Contents",
   "toc_cell": false,
   "toc_position": {},
   "toc_section_display": true,
   "toc_window_display": true
  }
 },
 "nbformat": 4,
 "nbformat_minor": 5
}
